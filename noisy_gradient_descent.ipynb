{
 "cells": [
  {
   "cell_type": "code",
   "execution_count": 22,
   "metadata": {},
   "outputs": [],
   "source": [
    "import pandas as pd \n",
    "import numpy as np "
   ]
  },
  {
   "cell_type": "code",
   "execution_count": 23,
   "metadata": {},
   "outputs": [],
   "source": [
    "# getting data \n",
    "red_df = pd.read_csv('wine+quality/winequality-red.csv')\n",
    "white_df = pd.read_csv('wine+quality/winequality-white.csv')"
   ]
  },
  {
   "cell_type": "code",
   "execution_count": 24,
   "metadata": {},
   "outputs": [
    {
     "name": "stdout",
     "output_type": "stream",
     "text": [
      "Size of training data: 3918\n",
      "Size of testing data: 980\n"
     ]
    }
   ],
   "source": [
    "X = white_df[[\"fixed acidity\",\"volatile acidity\",\"citric acid\",\"residual sugar\",\"chlorides\",\"free sulfur dioxide\",\"total sulfur dioxide\",\"density\",\"pH\",\"sulphates\",\"alcohol\"]]\n",
    "y = white_df['quality']\n",
    "\n",
    "train_index = int(len(X) * .8) # 80% train, 20% test \n",
    "\n",
    "X_train = X[:train_index].values\n",
    "y_train = y[:train_index].values\n",
    "X_test = X[train_index:].values\n",
    "y_test = y[train_index:].values\n",
    "print(f'Size of training data: {len(X_train)}')\n",
    "print(f'Size of testing data: {len(X_test)}')"
   ]
  },
  {
   "cell_type": "code",
   "execution_count": 25,
   "metadata": {},
   "outputs": [],
   "source": [
    "# predicting y-pred (label), with bias set to zero \n",
    "def predict(xi, theta, bias=0):\n",
    "    label = xi.dot(theta) + bias\n",
    "    return label\n",
    "\n",
    "# peforming mse \n",
    "def accuracy(theta):\n",
    "    result = 0\n",
    "    for i in range(len(X_test)):\n",
    "        y_pred = (predict(X_test[i], theta))\n",
    "        result += (y_test[i] - y_pred) ** 2\n",
    "    return result / len(X_test)\n",
    "\n",
    "def gaussian_mech_vec(vec, sensitivity, epsilon, delta):\n",
    "    return [v + np.random.normal(loc=0, scale=sensitivity * np.sqrt(2*np.log(1.25/delta)) / epsilon)\n",
    "            for v in vec]\n",
    "\n",
    "def L2_clip(v, b):\n",
    "    norm = np.linalg.norm(v, ord=2)\n",
    "    \n",
    "    if norm > b:\n",
    "        return b * (v / norm)\n",
    "    else:\n",
    "        return v"
   ]
  },
  {
   "cell_type": "code",
   "execution_count": 26,
   "metadata": {},
   "outputs": [],
   "source": [
    "# This is the gradient of the linear loss\n",
    "def gradient(theta, xi, yi):\n",
    "    y_pred = xi.dot(theta) # take current theta and get dot product of x, that is current prediction\n",
    "    return -2 * (xi * (yi - y_pred))\n",
    "\n",
    "def noisy_gradient_descent(iterations, epsilon, delta):\n",
    "    lr = 0.000005 # optimal LR \n",
    "    theta = np.zeros(X_train.shape[1])\n",
    "    epsilon_i = epsilon / iterations\n",
    "    delta_i = delta / iterations\n",
    "    for _ in range(iterations):\n",
    "        # Goal\n",
    "        # 1. compute one gradient per example in X_train\n",
    "        all_grads = [gradient(theta, X_train[i], y_train[i]) for i in range(len(X_train))]\n",
    "        \n",
    "        # 2. Call L2_clip on each gradient\n",
    "        b = 5\n",
    "        clipped_grads = [L2_clip(g, b) for g in all_grads]\n",
    "        \n",
    "        # 3. Take the sum of the clipped gradients and add noise\n",
    "        grad_sum = np.sum(clipped_grads, axis=0)\n",
    "\n",
    "        # L2 sens is the clipping number\n",
    "        noisy_grad_sum = gaussian_mech_vec(grad_sum, sensitivity=b, epsilon=epsilon_i, delta=delta_i)\n",
    "        \n",
    "        # Danger: reveals the size of the training data - breaks DP\n",
    "        # Probably fine to reveal, can add noise to the length to make it DP\n",
    "        noisy_grad = np.array(noisy_grad_sum) / len(X_train)\n",
    "        theta = theta - lr * noisy_grad\n",
    "        \n",
    "    return theta"
   ]
  },
  {
   "cell_type": "code",
   "execution_count": 38,
   "metadata": {},
   "outputs": [
    {
     "name": "stdout",
     "output_type": "stream",
     "text": [
      "Average accuracy for 10 runs, mse: 4.153564548955102\n"
     ]
    }
   ],
   "source": [
    "total_acc = 0\n",
    "for _ in range(10):\n",
    "    theta = noisy_gradient_descent(1800, 1.0, 1e-5)\n",
    "    acc = accuracy(theta)\n",
    "    total_acc += acc\n",
    "\n",
    "\n",
    "print(f'Average accuracy for 10 runs, mse: {total_acc/10}')"
   ]
  },
  {
   "cell_type": "code",
   "execution_count": 36,
   "metadata": {},
   "outputs": [
    {
     "data": {
      "text/plain": [
       "np.float64(4.043023345281993)"
      ]
     },
     "execution_count": 36,
     "metadata": {},
     "output_type": "execute_result"
    }
   ],
   "source": [
    "accuracy(theta)"
   ]
  }
 ],
 "metadata": {
  "kernelspec": {
   "display_name": ".venv",
   "language": "python",
   "name": "python3"
  },
  "language_info": {
   "codemirror_mode": {
    "name": "ipython",
    "version": 3
   },
   "file_extension": ".py",
   "mimetype": "text/x-python",
   "name": "python",
   "nbconvert_exporter": "python",
   "pygments_lexer": "ipython3",
   "version": "3.12.5"
  }
 },
 "nbformat": 4,
 "nbformat_minor": 2
}
