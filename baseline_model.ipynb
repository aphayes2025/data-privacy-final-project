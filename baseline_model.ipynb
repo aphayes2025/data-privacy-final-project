{
 "cells": [
  {
   "cell_type": "code",
   "execution_count": 1,
   "metadata": {},
   "outputs": [],
   "source": [
    "from sklearn.linear_model import LinearRegression\n",
    "import pandas as pd \n",
    "import numpy as np \n",
    "from sklearn.metrics import mean_squared_error"
   ]
  },
  {
   "cell_type": "code",
   "execution_count": 2,
   "metadata": {},
   "outputs": [
    {
     "name": "stdout",
     "output_type": "stream",
     "text": [
      "Size of training data: 3918\n",
      "Size of testing data: 980\n"
     ]
    }
   ],
   "source": [
    "# getting data \n",
    "red_df = pd.read_csv('wine+quality/winequality-red.csv')\n",
    "white_df = pd.read_csv('wine+quality/winequality-white.csv')\n",
    "\n",
    "X = white_df[[\"fixed acidity\",\"volatile acidity\",\"citric acid\",\"residual sugar\",\"chlorides\",\"free sulfur dioxide\",\"total sulfur dioxide\",\"density\",\"pH\",\"sulphates\",\"alcohol\"]]\n",
    "y = white_df['quality']\n",
    "\n",
    "train_index = int(len(X) * .8) # 80% train, 20% test \n",
    "\n",
    "X_train = X[:train_index].values\n",
    "y_train = y[:train_index].values\n",
    "X_test = X[train_index:].values\n",
    "y_test = y[train_index:].values\n",
    "print(f'Size of training data: {len(X_train)}')\n",
    "print(f'Size of testing data: {len(X_test)}')"
   ]
  },
  {
   "cell_type": "code",
   "execution_count": 3,
   "metadata": {},
   "outputs": [
    {
     "name": "stdout",
     "output_type": "stream",
     "text": [
      "MSE for baseline: 0.5072104636729868\n"
     ]
    }
   ],
   "source": [
    "def train_model():\n",
    "    model = LinearRegression()\n",
    "    model.fit(X_train, y_train)\n",
    "\n",
    "    return model\n",
    "\n",
    "model = train_model()\n",
    "y_pred = model.predict(X_test)\n",
    "\n",
    "mse = mean_squared_error(y_test, y_pred)\n",
    "print(f'MSE for baseline: {mse}')"
   ]
  }
 ],
 "metadata": {
  "kernelspec": {
   "display_name": ".venv",
   "language": "python",
   "name": "python3"
  },
  "language_info": {
   "codemirror_mode": {
    "name": "ipython",
    "version": 3
   },
   "file_extension": ".py",
   "mimetype": "text/x-python",
   "name": "python",
   "nbconvert_exporter": "python",
   "pygments_lexer": "ipython3",
   "version": "3.12.5"
  }
 },
 "nbformat": 4,
 "nbformat_minor": 2
}
