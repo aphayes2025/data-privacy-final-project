{
 "cells": [
  {
   "cell_type": "code",
   "execution_count": 6,
   "metadata": {},
   "outputs": [],
   "source": [
    "import pandas as pd \n",
    "import numpy as np "
   ]
  },
  {
   "cell_type": "code",
   "execution_count": 7,
   "metadata": {},
   "outputs": [],
   "source": [
    "# getting data \n",
    "red_df = pd.read_csv('wine+quality/winequality-red.csv')\n",
    "white_df = pd.read_csv('wine+quality/winequality-white.csv')"
   ]
  },
  {
   "cell_type": "code",
   "execution_count": 8,
   "metadata": {},
   "outputs": [
    {
     "name": "stdout",
     "output_type": "stream",
     "text": [
      "Size of training data: 3918\n",
      "Size of testing data: 980\n"
     ]
    }
   ],
   "source": [
    "X = white_df[[\"fixed acidity\",\"volatile acidity\",\"citric acid\",\"residual sugar\",\"chlorides\",\"free sulfur dioxide\",\"total sulfur dioxide\",\"density\",\"pH\",\"sulphates\",\"alcohol\"]]\n",
    "y = white_df['quality']\n",
    "\n",
    "train_index = int(len(X) * .8) # 80% train, 20% test \n",
    "\n",
    "X_train = X[:train_index].values\n",
    "y_train = y[:train_index].values\n",
    "X_test = X[train_index:].values\n",
    "y_test = y[train_index:].values\n",
    "print(f'Size of training data: {len(X_train)}')\n",
    "print(f'Size of testing data: {len(X_test)}')"
   ]
  },
  {
   "cell_type": "code",
   "execution_count": 9,
   "metadata": {},
   "outputs": [],
   "source": [
    "# This is the gradient of the linear loss\n",
    "def gradient(theta, xi, yi):\n",
    "    y_pred = xi.dot(theta) # take current theta and get dot product of x, that is current prediction\n",
    "    return -2 * (xi * (yi - y_pred))\n",
    "\n",
    "# essentially cost function \n",
    "def avg_grad(theta, X, y):\n",
    "    # List of vectors\n",
    "    all_grads = [gradient(theta, X[i], y[i]) for i in range(len(X))]\n",
    "    # Compute the column-wise average\n",
    "    avg_grad = np.mean(all_grads, axis=0)\n",
    "    return avg_grad\n",
    "\n",
    "def gradient_descent(iterations):\n",
    "    theta = np.zeros(X_train.shape[1])\n",
    "    lr = 0.000042 # optimal LR \n",
    "    for _ in range(iterations):\n",
    "        temp = avg_grad(theta, X_train, y_train)\n",
    "        theta = theta -  lr * temp\n",
    "    return theta"
   ]
  },
  {
   "cell_type": "code",
   "execution_count": 10,
   "metadata": {},
   "outputs": [],
   "source": [
    "theta = gradient_descent(1800)"
   ]
  },
  {
   "cell_type": "code",
   "execution_count": 11,
   "metadata": {},
   "outputs": [],
   "source": [
    "# predicting y-pred (label), with bias set to zero \n",
    "def predict(xi, theta, bias=0):\n",
    "    label = xi.dot(theta) + bias\n",
    "    return label\n",
    "\n",
    "# peforming mse \n",
    "def accuracy(theta):\n",
    "    result = 0\n",
    "    for i in range(len(X_test)):\n",
    "        y_pred = (predict(X_test[i], theta))\n",
    "        result += (y_test[i] - y_pred) ** 2\n",
    "    return result / len(X_test)"
   ]
  },
  {
   "cell_type": "code",
   "execution_count": 12,
   "metadata": {},
   "outputs": [
    {
     "data": {
      "text/plain": [
       "np.float64(0.5677132593477637)"
      ]
     },
     "execution_count": 12,
     "metadata": {},
     "output_type": "execute_result"
    }
   ],
   "source": [
    "accuracy(theta)"
   ]
  }
 ],
 "metadata": {
  "kernelspec": {
   "display_name": ".venv",
   "language": "python",
   "name": "python3"
  },
  "language_info": {
   "codemirror_mode": {
    "name": "ipython",
    "version": 3
   },
   "file_extension": ".py",
   "mimetype": "text/x-python",
   "name": "python",
   "nbconvert_exporter": "python",
   "pygments_lexer": "ipython3",
   "version": "3.12.5"
  }
 },
 "nbformat": 4,
 "nbformat_minor": 2
}
